{
 "cells": [
  {
   "cell_type": "code",
   "execution_count": null,
   "metadata": {},
   "outputs": [],
   "source": [
    "import pandas as pd\n",
    "import geopandas as gpd\n",
    "import folium\n",
    "import pandas as pd\n",
    "import geopandas as gpd\n",
    "from shapely.geometry import Point"
   ]
  },
  {
   "cell_type": "code",
   "execution_count": null,
   "metadata": {},
   "outputs": [],
   "source": [
    "# Loading data\n",
    "df_poi = pd.read_csv(r'granular_pois.csv')\n",
    "df_barnet = pd.read_csv(r'barnet.csv')\n",
    "lsoa_boundaries=gpd.read_file('barnet.geojson')\n",
    "\n",
    "# South Barnet LSOA list\n",
    "select = ['E01000221', 'E01000223', 'E01000141', 'E01000184', 'E01000178', 'E01000176'] + list(df_barnet[(df_barnet['LSOA name'].str.contains('038')) | (df_barnet['LSOA name'].str.contains('029')) | (df_barnet['LSOA name'].str.contains('033')) | (df_barnet['LSOA name'].str.contains('035')) | (df_barnet['LSOA name'].str.contains('037')) | (df_barnet['LSOA name'].str.contains('040')) | (df_barnet['LSOA name'].str.contains('041'))]['lsoa11cd'].unique())"
   ]
  },
  {
   "cell_type": "code",
   "execution_count": null,
   "metadata": {},
   "outputs": [],
   "source": [
    "# Get POI per LSOA\n",
    "geometry = [Point(xy) for xy in zip(df_poi['long'], df_poi['lat'])]\n",
    "gdf_poi = gpd.GeoDataFrame(df_poi, geometry=geometry)\n",
    "\n",
    "poi_per_lsoa = gpd.sjoin(lsoa_boundaries, gdf_poi, how='left', op='contains')"
   ]
  },
  {
   "cell_type": "code",
   "execution_count": null,
   "metadata": {},
   "outputs": [],
   "source": [
    "significant_lsoa = ['E01000138', 'E01000139', 'E01000145', 'E01000146', 'E01000211']\n",
    "df_poi_south = poi_per_lsoa[poi_per_lsoa['lsoa11cd'].isin(select)]\n",
    "categories = list(df_poi_south['POI'].unique())\n",
    "selected_facilities = ['gym', 'park', 'groceries', 'cafe']"
   ]
  },
  {
   "cell_type": "code",
   "execution_count": null,
   "metadata": {},
   "outputs": [],
   "source": [
    "display_count = 'Crime Count'\n",
    "\n",
    "df_series = df_barnet.groupby(['lsoa11cd', 'year'])['Crime ID'].count().reset_index(name='Crime Count')\n",
    "\n",
    "lsoa_crime_counts = df_series[df_series['lsoa11cd'].isin(select)]\n",
    "\n",
    "lsoa_chosen = select\n",
    "option_slctd = 2017\n",
    "lsoa_crime_counts = lsoa_crime_counts.groupby(['lsoa11cd', 'year']).sum().reset_index()\n",
    "lsoa_crime_counts = lsoa_crime_counts[lsoa_crime_counts['year'] == option_slctd]\n",
    "\n",
    "lsoa_stats = lsoa_crime_counts[display_count].describe()\n",
    "\n",
    "print(lsoa_stats)\n",
    "\n",
    "m = folium.Map(location=[51.5074, -0.1278], zoom_start=10)\n",
    "folium.Choropleth(\n",
    "    geo_data=lsoa_boundaries,\n",
    "    name='choropleth',\n",
    "    data=lsoa_crime_counts,\n",
    "    columns=['lsoa11cd', display_count],\n",
    "    key_on='feature.properties.lsoa11cd',\n",
    "    fill_color='YlOrRd',\n",
    "    fill_opacity=0.7,  \n",
    "    line_opacity=0.2,\n",
    "    legend_name=f'{display_count} in {option_slctd}',\n",
    "    highlight=True,\n",
    "    tooltip=folium.features.GeoJsonTooltip(\n",
    "        fields=['lsoa11cd', display_count],\n",
    "        aliases=['LSOA Code', display_count],\n",
    "        sticky=True,\n",
    "        labels=True,\n",
    "        style=(\"background-color: white; color: #333333; font-family: arial; font-size: 12px; padding: 10px;\")\n",
    "    ),\n",
    "    #  threshold_scale=custom_scale\n",
    ").add_to(m)\n",
    "\n",
    "for index, row in df_poi_south[df_poi_south['POI'].isin(selected_facilities)].iterrows():\n",
    "    stop_lat = row['lat']\n",
    "    stop_lon = row['long'] \n",
    "\n",
    "    marker = folium.CircleMarker(location=[stop_lat, stop_lon], radius=4, color='black', fill=True, fill_color='black', popup = row['POI'])\n",
    "    marker.add_to(m)\n",
    "m"
   ]
  }
 ],
 "metadata": {
  "kernelspec": {
   "display_name": "Python 3",
   "language": "python",
   "name": "python3"
  },
  "language_info": {
   "codemirror_mode": {
    "name": "ipython",
    "version": 3
   },
   "file_extension": ".py",
   "mimetype": "text/x-python",
   "name": "python",
   "nbconvert_exporter": "python",
   "pygments_lexer": "ipython3",
   "version": "3.10.6"
  },
  "orig_nbformat": 4
 },
 "nbformat": 4,
 "nbformat_minor": 2
}
