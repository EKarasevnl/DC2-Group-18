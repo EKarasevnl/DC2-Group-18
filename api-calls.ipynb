{
 "cells": [
  {
   "cell_type": "code",
   "execution_count": 1,
   "metadata": {},
   "outputs": [],
   "source": [
    "import pandas as pd\n",
    "import googlemaps"
   ]
  },
  {
   "cell_type": "code",
   "execution_count": 2,
   "metadata": {},
   "outputs": [],
   "source": [
    "API_KEY = \"\"\n",
    "gmaps = googlemaps.Client(key=API_KEY)"
   ]
  },
  {
   "cell_type": "code",
   "execution_count": 3,
   "metadata": {},
   "outputs": [],
   "source": [
    "def create_list(response, type):\n",
    "  list_of_points=[]\n",
    "  for result in response['results']:\n",
    "    lat = result['geometry']['location']['lat']\n",
    "    lng = result['geometry']['location']['lng']\n",
    "    list_of_points.append((type, lat, lng))\n",
    "  return list_of_points"
   ]
  },
  {
   "cell_type": "code",
   "execution_count": 4,
   "metadata": {},
   "outputs": [],
   "source": [
    "def finalize(poi_types, location, radius):\n",
    "    final_list = []\n",
    "    for poi in poi_types:\n",
    "        response = gmaps.places_nearby(location=location, keyword=poi, radius=radius)\n",
    "        temp = create_list(response, poi)\n",
    "        final_list = final_list + temp\n",
    "    return final_list"
   ]
  },
  {
   "cell_type": "code",
   "execution_count": 5,
   "metadata": {},
   "outputs": [],
   "source": [
    "location = (51.64870502671705, -0.17654192837734858)\n",
    "radius = 10000\n",
    "poi_types = [\"accounting\", \"airport\", \"amusement_park\", \"aquarium\", \"art_gallery\", \"atm\", \"bakery\", \"bank\", \"bar\", \"beauty_salon\", \"bicycle_store\", \"book_store\", \"bowling_alley\", \"bus_station\", \"cafe\", \"campground\", \"car_dealer\", \"car_rental\", \"car_repair\", \"car_wash\", \"casino\", \"cemetery\", \"church\", \"city_hall\", \"clothing_store\", \"convenience_store\", \"courthouse\", \"dentist\", \"department_store\", \"doctor\", \"drugstore\", \"electrician\", \"electronics_store\", \"embassy\", \"fire_station\", \"florist\", \"funeral_home\", \"furniture_store\", \"gas_station\", \"gym\", \"hair_care\", \"hardware_store\", \"hindu_temple\", \"home_goods_store\", \"hospital\", \"insurance_agency\", \"jewelry_store\", \"laundry\", \"lawyer\", \"library\", \"light_rail_station\", \"liquor_store\", \"local_government_office\", \"locksmith\", \"lodging\", \"meal_delivery\", \"meal_takeaway\", \"mosque\", \"movie_rental\", \"movie_theater\", \"moving_company\", \"museum\", \"night_club\", \"painter\", \"park\", \"parking\", \"pet_store\", \"pharmacy\", \"physiotherapist\", \"plumber\", \"police\", \"post_office\", \"primary_school\", \"real_estate_agency\", \"restaurant\", \"roofing_contractor\", \"rv_park\", \"school\", \"secondary_school\", \"shoe_store\", \"shopping_mall\", \"spa\", \"stadium\", \"storage\", \"store\", \"subway_station\", \"supermarket\", \"synagogue\", \"taxi_stand\", \"tourist_attraction\", \"train_station\", \"transit_station\", \"travel_agency\", \"university\", \"veterinary_care\", \"zoo\"]"
   ]
  },
  {
   "cell_type": "code",
   "execution_count": 6,
   "metadata": {},
   "outputs": [],
   "source": [
    "a = finalize(poi_types, location, radius).copy()"
   ]
  },
  {
   "cell_type": "code",
   "execution_count": 7,
   "metadata": {},
   "outputs": [],
   "source": [
    "df = pd.DataFrame(data = a, columns=['POI','lat', 'lon'])"
   ]
  },
  {
   "cell_type": "code",
   "execution_count": 8,
   "metadata": {},
   "outputs": [
    {
     "data": {
      "text/html": [
       "<div>\n",
       "<style scoped>\n",
       "    .dataframe tbody tr th:only-of-type {\n",
       "        vertical-align: middle;\n",
       "    }\n",
       "\n",
       "    .dataframe tbody tr th {\n",
       "        vertical-align: top;\n",
       "    }\n",
       "\n",
       "    .dataframe thead th {\n",
       "        text-align: right;\n",
       "    }\n",
       "</style>\n",
       "<table border=\"1\" class=\"dataframe\">\n",
       "  <thead>\n",
       "    <tr style=\"text-align: right;\">\n",
       "      <th></th>\n",
       "      <th>POI</th>\n",
       "      <th>lat</th>\n",
       "      <th>lon</th>\n",
       "    </tr>\n",
       "  </thead>\n",
       "  <tbody>\n",
       "    <tr>\n",
       "      <th>0</th>\n",
       "      <td>accounting</td>\n",
       "      <td>51.697651</td>\n",
       "      <td>-0.191746</td>\n",
       "    </tr>\n",
       "    <tr>\n",
       "      <th>1</th>\n",
       "      <td>accounting</td>\n",
       "      <td>51.614180</td>\n",
       "      <td>-0.275541</td>\n",
       "    </tr>\n",
       "    <tr>\n",
       "      <th>2</th>\n",
       "      <td>accounting</td>\n",
       "      <td>51.615948</td>\n",
       "      <td>-0.302940</td>\n",
       "    </tr>\n",
       "    <tr>\n",
       "      <th>3</th>\n",
       "      <td>accounting</td>\n",
       "      <td>51.607640</td>\n",
       "      <td>-0.068205</td>\n",
       "    </tr>\n",
       "    <tr>\n",
       "      <th>4</th>\n",
       "      <td>accounting</td>\n",
       "      <td>51.621429</td>\n",
       "      <td>-0.293039</td>\n",
       "    </tr>\n",
       "    <tr>\n",
       "      <th>...</th>\n",
       "      <td>...</td>\n",
       "      <td>...</td>\n",
       "      <td>...</td>\n",
       "    </tr>\n",
       "    <tr>\n",
       "      <th>1025</th>\n",
       "      <td>veterinary_care</td>\n",
       "      <td>51.686435</td>\n",
       "      <td>-0.319279</td>\n",
       "    </tr>\n",
       "    <tr>\n",
       "      <th>1026</th>\n",
       "      <td>veterinary_care</td>\n",
       "      <td>51.664309</td>\n",
       "      <td>-0.076418</td>\n",
       "    </tr>\n",
       "    <tr>\n",
       "      <th>1027</th>\n",
       "      <td>zoo</td>\n",
       "      <td>51.691954</td>\n",
       "      <td>-0.040493</td>\n",
       "    </tr>\n",
       "    <tr>\n",
       "      <th>1028</th>\n",
       "      <td>zoo</td>\n",
       "      <td>51.560459</td>\n",
       "      <td>-0.086956</td>\n",
       "    </tr>\n",
       "    <tr>\n",
       "      <th>1029</th>\n",
       "      <td>zoo</td>\n",
       "      <td>51.560243</td>\n",
       "      <td>-0.088299</td>\n",
       "    </tr>\n",
       "  </tbody>\n",
       "</table>\n",
       "<p>1030 rows × 3 columns</p>\n",
       "</div>"
      ],
      "text/plain": [
       "                  POI        lat       lon\n",
       "0          accounting  51.697651 -0.191746\n",
       "1          accounting  51.614180 -0.275541\n",
       "2          accounting  51.615948 -0.302940\n",
       "3          accounting  51.607640 -0.068205\n",
       "4          accounting  51.621429 -0.293039\n",
       "...               ...        ...       ...\n",
       "1025  veterinary_care  51.686435 -0.319279\n",
       "1026  veterinary_care  51.664309 -0.076418\n",
       "1027              zoo  51.691954 -0.040493\n",
       "1028              zoo  51.560459 -0.086956\n",
       "1029              zoo  51.560243 -0.088299\n",
       "\n",
       "[1030 rows x 3 columns]"
      ]
     },
     "execution_count": 8,
     "metadata": {},
     "output_type": "execute_result"
    }
   ],
   "source": [
    "df"
   ]
  },
  {
   "cell_type": "code",
   "execution_count": 53,
   "metadata": {},
   "outputs": [],
   "source": [
    "df.to_csv('poi-gmaps-api.csv')"
   ]
  }
 ],
 "metadata": {
  "kernelspec": {
   "display_name": "Python 3 (ipykernel)",
   "language": "python",
   "name": "python3"
  },
  "language_info": {
   "codemirror_mode": {
    "name": "ipython",
    "version": 3
   },
   "file_extension": ".py",
   "mimetype": "text/x-python",
   "name": "python",
   "nbconvert_exporter": "python",
   "pygments_lexer": "ipython3",
   "version": "3.10.6"
  }
 },
 "nbformat": 4,
 "nbformat_minor": 2
}
